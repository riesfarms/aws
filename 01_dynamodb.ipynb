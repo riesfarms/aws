{
 "cells": [
  {
   "cell_type": "code",
   "execution_count": null,
   "metadata": {},
   "outputs": [],
   "source": [
    "#| hide\n",
    "%load_ext autoreload\n",
    "%autoreload 2"
   ]
  },
  {
   "cell_type": "code",
   "execution_count": null,
   "metadata": {},
   "outputs": [],
   "source": [
    "#| default_exp dynamodb"
   ]
  },
  {
   "cell_type": "markdown",
   "metadata": {},
   "source": [
    "# dynamodb\n",
    "\n",
    "> Interact with dynamodb."
   ]
  },
  {
   "cell_type": "code",
   "execution_count": null,
   "metadata": {},
   "outputs": [],
   "source": [
    "#| hide\n",
    "from fastcore.test import *\n",
    "from nbdev.showdoc import *"
   ]
  },
  {
   "cell_type": "code",
   "execution_count": null,
   "metadata": {},
   "outputs": [],
   "source": [
    "#| export\n",
    "from dataclasses import dataclass\n",
    "from pathlib import Path\n",
    "from typing import Any, Callable, Dict, Iterable, Optional, Sequence, Tuple\n",
    "\n",
    "import boto3\n",
    "from boto3.dynamodb.conditions import Attr\n",
    "import botocore\n",
    "from botocore.exceptions import BotoCoreError\n",
    "import rtime.core as rtime"
   ]
  },
  {
   "cell_type": "code",
   "execution_count": null,
   "metadata": {},
   "outputs": [],
   "source": [
    "#| export\n",
    "TEN_MINUTES_IN_MS = 1000 * 60 * 10"
   ]
  },
  {
   "cell_type": "code",
   "execution_count": null,
   "metadata": {},
   "outputs": [],
   "source": [
    "#| export\n",
    "@dataclass\n",
    "class Config:\n",
    "    \"\"\"Configuration for a dynamodb instance.\"\"\"\n",
    "    region: str\n",
    "    aki: str | Path\n",
    "    sak: str | Path\n"
   ]
  },
  {
   "cell_type": "code",
   "execution_count": null,
   "metadata": {},
   "outputs": [],
   "source": [
    "#| export\n",
    "class DynamoDB:\n",
    "    \"\"\"Wrapper around dynamodb resource.\"\"\"\n",
    "    \n",
    "    def __init__(self, config: Config):\n",
    "        self.timestamp = 0\n",
    "        self.resource = self._init_resource()\n",
    "        self.config = config\n",
    "\n",
    "    def _init_resource(self):\n",
    "        \"\"\"Return the main table.\"\"\"\n",
    "        config = self.config\n",
    "        with open(config.aki, \"r\") as infile:\n",
    "            aki = infile.read().strip()\n",
    "        with open(config.sak, \"r\") as infile:\n",
    "            sak = infile.read().strip()\n",
    "    \n",
    "        self.timestamp = rtime.timestamp()\n",
    "        return boto3.resource(\n",
    "            \"dynamodb\",\n",
    "            region_name=config.region,\n",
    "            aws_access_key_id=aki,\n",
    "            aws_secret_access_key=sak,\n",
    "        )\n",
    "        \n",
    "    def __getattr__(self, name):\n",
    "        \"\"\"Forward requests to the underlying resource.\"\"\"\n",
    "        if rtime.timestamp() - self.timestamp > TEN_MINUTES_IN_MS:\n",
    "            self.resource = self._init_resource()\n",
    "        return getattr(self.resource, name)\n"
   ]
  },
  {
   "cell_type": "code",
   "execution_count": null,
   "metadata": {},
   "outputs": [],
   "source": []
  },
  {
   "cell_type": "code",
   "execution_count": null,
   "metadata": {},
   "outputs": [],
   "source": []
  },
  {
   "cell_type": "code",
   "execution_count": null,
   "metadata": {},
   "outputs": [],
   "source": []
  },
  {
   "cell_type": "code",
   "execution_count": null,
   "metadata": {},
   "outputs": [],
   "source": [
    "#| hide\n",
    "import nbdev\n",
    "\n",
    "nbdev.nbdev_export()"
   ]
  }
 ],
 "metadata": {
  "kernelspec": {
   "display_name": "Python 3 (ipykernel)",
   "language": "python",
   "name": "python3"
  }
 },
 "nbformat": 4,
 "nbformat_minor": 4
}
